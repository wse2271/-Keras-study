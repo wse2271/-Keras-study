{
  "nbformat": 4,
  "nbformat_minor": 0,
  "metadata": {
    "accelerator": "GPU",
    "colab": {
      "name": "Mixup.ipynb",
      "provenance": [],
      "collapsed_sections": [],
      "toc_visible": true,
      "authorship_tag": "ABX9TyMwMz/2B3bjoEPt3H6AfUW+",
      "include_colab_link": true
    },
    "kernelspec": {
      "display_name": "Python 3",
      "name": "python3"
    },
    "language_info": {
      "name": "python"
    }
  },
  "cells": [
    {
      "cell_type": "markdown",
      "metadata": {
        "id": "view-in-github",
        "colab_type": "text"
      },
      "source": [
        "<a href=\"https://colab.research.google.com/github/wse2271/-Keras-study/blob/main/Mixup.ipynb\" target=\"_parent\"><img src=\"https://colab.research.google.com/assets/colab-badge.svg\" alt=\"Open In Colab\"/></a>"
      ]
    },
    {
      "cell_type": "code",
      "metadata": {
        "id": "Cz9PGt1eUtXs"
      },
      "source": [
        "import numpy as np\n",
        "import tensorflow as tf\n",
        "import matplotlib.pyplot as plt\n",
        "plt.style.use('seaborn-white')\n",
        "\n",
        "import keras\n",
        "from tensorflow.keras import Model\n",
        "from tensorflow.keras.optimizers import Adam\n",
        "from tensorflow.keras.models import Sequential\n",
        "from tensorflow.keras.utils import to_categorical\n",
        "from tensorflow.keras.datasets.fashion_mnist import load_data\n",
        "from __future__ import print_function\n",
        "from keras.layers import Dense, Conv2D, BatchNormalization, Activation, ZeroPadding2D, Add, concatenate\n",
        "from keras.layers import MaxPool2D, AveragePooling2D, Input, Flatten, Dropout, MaxPooling2D, GlobalAveragePooling2D\n",
        "from keras.preprocessing.image import ImageDataGenerator\n",
        "from keras.regularizers import l2\n",
        "from keras.callbacks import ModelCheckpoint, ReduceLROnPlateau"
      ],
      "execution_count": null,
      "outputs": []
    },
    {
      "cell_type": "code",
      "metadata": {
        "id": "SKWQyVTsU-fD"
      },
      "source": [
        "class_names = ['T-shirt/top', 'Trouser', 'Pullover', 'Dress', 'Coat',\n",
        "               'Sandal', 'Shirt', 'Sneaker', 'Bag', 'Ankle boot']"
      ],
      "execution_count": null,
      "outputs": []
    },
    {
      "cell_type": "code",
      "metadata": {
        "colab": {
          "base_uri": "https://localhost:8080/"
        },
        "id": "cDxtMwtQ2SRE",
        "outputId": "f968b14a-ba3c-4856-f8ad-3881f5c062b3"
      },
      "source": [
        "(x_train, y_train), (x_test, y_test) = load_data()\n",
        "\n",
        "print(x_train.shape)\n",
        "print(y_train.shape)\n",
        "print(x_test.shape)\n",
        "print(y_test.shape)\n"
      ],
      "execution_count": null,
      "outputs": [
        {
          "output_type": "stream",
          "text": [
            "(60000, 28, 28)\n",
            "(60000,)\n",
            "(10000, 28, 28)\n",
            "(10000,)\n"
          ],
          "name": "stdout"
        }
      ]
    },
    {
      "cell_type": "code",
      "metadata": {
        "id": "KfGQbEUfJaEY"
      },
      "source": [
        "#label one_hot 1회만\n",
        "x_train = x_train.astype(\"float32\") / 255.0\n",
        "x_train = np.reshape(x_train, (-1, 28, 28, 1))\n",
        "y_train = tf.one_hot(y_train, 10)\n",
        "\n",
        "x_test = x_test.astype(\"float32\") / 255.0\n",
        "x_test = np.reshape(x_test, (-1, 28, 28, 1))\n",
        "y_test = tf.one_hot(y_test, 10)\n"
      ],
      "execution_count": null,
      "outputs": []
    },
    {
      "cell_type": "code",
      "metadata": {
        "id": "rZAMW1h-C08t"
      },
      "source": [
        "AUTO = tf.data.AUTOTUNE\n",
        "BATCH_SIZE = 128\n",
        "EPOCHS = 15"
      ],
      "execution_count": null,
      "outputs": []
    },
    {
      "cell_type": "code",
      "metadata": {
        "id": "BhbqWj3QBlx4"
      },
      "source": [
        "val_samples = 10000\n",
        "x_val, y_val = x_train[:val_samples], y_train[:val_samples]\n",
        "new_x_train, new_y_train = x_train[val_samples:], y_train[val_samples:]\n",
        "\n",
        "train_ds_one = (\n",
        "    tf.data.Dataset.from_tensor_slices((new_x_train, new_y_train))\n",
        "    .shuffle(BATCH_SIZE * 100)\n",
        "    .batch(BATCH_SIZE))\n",
        "train_ds_two = (\n",
        "    tf.data.Dataset.from_tensor_slices((new_x_train, new_y_train))\n",
        "    .shuffle(BATCH_SIZE * 100)\n",
        "    .batch(BATCH_SIZE))\n",
        "\n",
        "train_ds = tf.data.Dataset.zip((train_ds_one, train_ds_two))\n",
        "\n",
        "val_ds = tf.data.Dataset.from_tensor_slices((x_val, y_val)).batch(BATCH_SIZE)\n",
        "\n",
        "test_ds = tf.data.Dataset.from_tensor_slices((x_test, y_test)).batch(BATCH_SIZE)"
      ],
      "execution_count": null,
      "outputs": []
    },
    {
      "cell_type": "code",
      "metadata": {
        "colab": {
          "base_uri": "https://localhost:8080/"
        },
        "id": "IavKPcVAE6HJ",
        "outputId": "c93d28c2-d3f6-46bf-ee0a-98dee325f113"
      },
      "source": [
        "print(new_x_train.shape)\n",
        "print(new_y_train.shape)\n",
        "print(x_val.shape)\n",
        "print(y_val.shape)"
      ],
      "execution_count": null,
      "outputs": [
        {
          "output_type": "stream",
          "text": [
            "(50000, 28, 28, 1)\n",
            "(50000, 10)\n",
            "(10000, 28, 28, 1)\n",
            "(10000, 10)\n"
          ],
          "name": "stdout"
        }
      ]
    },
    {
      "cell_type": "code",
      "metadata": {
        "colab": {
          "base_uri": "https://localhost:8080/"
        },
        "id": "6GgXm0L-LeJS",
        "outputId": "15a923f0-647a-4828-a769-9bcc02e58b87"
      },
      "source": [
        "print(train_ds)\n",
        "print(val_ds)\n",
        "print(test_ds)"
      ],
      "execution_count": null,
      "outputs": [
        {
          "output_type": "stream",
          "text": [
            "<ZipDataset shapes: (((None, 28, 28, 1), (None, 10)), ((None, 28, 28, 1), (None, 10))), types: ((tf.float32, tf.float32), (tf.float32, tf.float32))>\n",
            "<BatchDataset shapes: ((None, 28, 28, 1), (None, 10)), types: (tf.float32, tf.float32)>\n",
            "<BatchDataset shapes: ((None, 28, 28, 1), (None, 10)), types: (tf.float32, tf.float32)>\n"
          ],
          "name": "stdout"
        }
      ]
    },
    {
      "cell_type": "code",
      "metadata": {
        "id": "-5Sn9sYGCPc6"
      },
      "source": [
        "def sample_beta_distribution(size, concentration_0=0.2, concentration_1=0.2):\n",
        "    gamma_1_sample = tf.random.gamma(shape=[size], alpha=concentration_1)\n",
        "    gamma_2_sample = tf.random.gamma(shape=[size], alpha=concentration_0)\n",
        "    return gamma_1_sample / (gamma_1_sample + gamma_2_sample)"
      ],
      "execution_count": null,
      "outputs": []
    },
    {
      "cell_type": "code",
      "metadata": {
        "id": "-9ZC0tsHCSv7"
      },
      "source": [
        "def mix_up(ds_one, ds_two, alpha=0.2):\n",
        "    images_one, labels_one = ds_one\n",
        "    images_two, labels_two = ds_two\n",
        "    batch_size = tf.shape(images_one)[0]\n",
        "\n",
        "    l = sample_beta_distribution(batch_size, alpha, alpha)\n",
        "    x_l = tf.reshape(l, (batch_size, 1, 1, 1))\n",
        "    y_l = tf.reshape(l, (batch_size, 1))\n",
        "\n",
        "    images = images_one * x_l + images_two * (1 - x_l)\n",
        "    labels = labels_one * y_l + labels_two * (1 - y_l)\n",
        "    return (images, labels)"
      ],
      "execution_count": null,
      "outputs": []
    },
    {
      "cell_type": "code",
      "metadata": {
        "colab": {
          "base_uri": "https://localhost:8080/",
          "height": 737
        },
        "id": "_tghNkyuILKz",
        "outputId": "8a9e2b66-ada0-4cb4-8610-9dd8fd5e7563"
      },
      "source": [
        "train_ds_mu = train_ds.map(\n",
        "    lambda ds_one, ds_two: mix_up(ds_one, ds_two, alpha=0.2), num_parallel_calls=AUTO)\n",
        "\n",
        "sample_images, sample_labels = next(iter(train_ds_mu))\n",
        "plt.figure(figsize=(10, 10))\n",
        "for i, (image, label) in enumerate(zip(sample_images[:9], sample_labels[:9])):\n",
        "    ax = plt.subplot(3, 3, i + 1)\n",
        "    plt.imshow(image.numpy().squeeze())\n",
        "    print(label.numpy().tolist())\n",
        "    plt.axis(\"off\")"
      ],
      "execution_count": null,
      "outputs": [
        {
          "output_type": "stream",
          "text": [
            "[0.0, 0.04982218146324158, 0.0, 0.0, 0.0, 0.0, 0.0, 0.0, 0.950177788734436, 0.0]\n",
            "[0.0, 0.0, 0.0, 0.004822504241019487, 0.0, 0.9951775074005127, 0.0, 0.0, 0.0, 0.0]\n",
            "[0.0, 0.0, 0.0, 0.0, 0.0, 0.9050279855728149, 0.0, 0.09497201442718506, 0.0, 0.0]\n",
            "[0.0, 0.0, 0.0, 0.8172502517700195, 0.0, 0.0, 0.0, 0.18274976313114166, 0.0, 0.0]\n",
            "[0.0, 0.9999765753746033, 2.3407210392178968e-05, 0.0, 0.0, 0.0, 0.0, 0.0, 0.0, 0.0]\n",
            "[0.9999800324440002, 0.0, 0.0, 0.0, 0.0, 1.996755599975586e-05, 0.0, 0.0, 0.0, 0.0]\n",
            "[0.0, 0.0, 0.0, 0.0, 0.0, 1.0, 0.0, 0.0, 0.0, 0.0]\n",
            "[0.0, 0.0, 0.0, 0.9943351149559021, 0.0, 0.0, 0.005664881318807602, 0.0, 0.0, 0.0]\n",
            "[0.0, 0.0, 0.0, 0.0, 0.9999980330467224, 0.0, 0.0, 0.0, 1.9669532775878906e-06, 0.0]\n"
          ],
          "name": "stdout"
        },
        {
          "output_type": "display_data",
          "data": {
            "image/png": "[encoded data removed]",
            "text/plain": [
              "<Figure size 720x720 with 9 Axes>"
            ]
          },
          "metadata": {
            "tags": []
          }
        }
      ]
    },
    {
      "cell_type": "code",
      "metadata": {
        "id": "e0D9ehyZPqNh"
      },
      "source": [
        "def naive_inception_block(prev_layer) :\n",
        "  conv1x1 = Conv2D(64, kernel_size=(1,1), padding = 'same', activation = 'relu')(prev_layer)\n",
        "  conv3x3 = Conv2D(64, kernel_size=(3,3), padding = 'same', activation = 'relu')(prev_layer)\n",
        "  conv5x5 = Conv2D(64, kernel_size=(5,5), padding = 'same', activation = 'relu')(prev_layer)\n",
        "  max_pool = MaxPooling2D((2,2), strides = (1,1), padding='same')(prev_layer)\n",
        "\n",
        "  return concatenate([conv1x1, conv3x3, conv5x5, max_pool], axis=1)"
      ],
      "execution_count": null,
      "outputs": []
    },
    {
      "cell_type": "code",
      "metadata": {
        "colab": {
          "base_uri": "https://localhost:8080/"
        },
        "id": "bRUDXflaNZ-y",
        "outputId": "573e94b8-3b62-4b39-cf6c-2dc0e6715a28"
      },
      "source": [
        "model = Sequential()\n",
        " \n",
        "input = Input(shape=(28, 28, 1))\n",
        "output = Conv2D(filters=32, kernel_size=3, activation='relu', padding='same')(input)\n",
        "output = Conv2D(filters=64, kernel_size=3, activation='relu', padding='valid')(output)\n",
        "output = naive_inception_block(output)\n",
        "output = Dropout(0.3)(output)\n",
        "\n",
        "output = Conv2D(filters=128, kernel_size=3, activation='relu', padding='same')(output)\n",
        "output = Conv2D(filters=256, kernel_size=3, activation='relu', padding='valid')(output)\n",
        "output = MaxPool2D(pool_size=(2,2), strides=(2,2))(output)\n",
        "output = Dropout(0.3)(output)\n",
        "\n",
        "\n",
        "output = Flatten()(output)\n",
        "output = Dense(units=10, activation='softmax')(output)\n",
        " \n",
        "model = Model(inputs=[input], outputs=output)\n",
        "  \n",
        " \n",
        "model.compile(optimizer='adam',\n",
        "                loss=tf.keras.losses.CategoricalCrossentropy(label_smoothing=0),\n",
        "                metrics=['acc']\n",
        "                )  \n",
        "  \n",
        "model.summary()"
      ],
      "execution_count": null,
      "outputs": [
        {
          "output_type": "stream",
          "text": [
            "Model: \"model\"\n",
            "__________________________________________________________________________________________________\n",
            "Layer (type)                    Output Shape         Param #     Connected to                     \n",
            "==================================================================================================\n",
            "Total params: 2,098,122\n",
            "Trainable params: 2,098,122\n",
            "Non-trainable params: 0\n",
            "__________________________________________________________________________________________________\n"
          ],
          "name": "stdout"
        }
      ]
    },
    {
      "cell_type": "code",
      "metadata": {
        "colab": {
          "base_uri": "https://localhost:8080/"
        },
        "id": "r5IfMMMrNaDe",
        "outputId": "0153eb82-1c74-472d-81fa-35785ab79316"
      },
      "source": [
        "hist = model.fit(train_ds_mu, validation_data=val_ds, epochs=EPOCHS)"
      ],
      "execution_count": null,
      "outputs": [
        {
          "output_type": "stream",
          "text": [
            "Epoch 1/15\n",
            "391/391 [==============================] - 36s 48ms/step - loss: 0.7212 - acc: 0.8118 - val_loss: 0.2747 - val_acc: 0.9074\n",
            "Epoch 2/15\n",
            "391/391 [==============================] - 18s 45ms/step - loss: 0.5277 - acc: 0.8712 - val_loss: 0.2388 - val_acc: 0.9189\n",
            "Epoch 3/15\n",
            "391/391 [==============================] - 18s 45ms/step - loss: 0.4803 - acc: 0.8884 - val_loss: 0.2263 - val_acc: 0.9281\n",
            "Epoch 4/15\n",
            "391/391 [==============================] - 18s 45ms/step - loss: 0.4488 - acc: 0.9005 - val_loss: 0.2023 - val_acc: 0.9264\n",
            "Epoch 5/15\n",
            "391/391 [==============================] - 18s 45ms/step - loss: 0.4221 - acc: 0.9110 - val_loss: 0.1944 - val_acc: 0.9327\n",
            "Epoch 6/15\n",
            "391/391 [==============================] - 18s 45ms/step - loss: 0.3969 - acc: 0.9200 - val_loss: 0.1907 - val_acc: 0.9342\n",
            "Epoch 7/15\n",
            "391/391 [==============================] - 18s 45ms/step - loss: 0.3751 - acc: 0.9295 - val_loss: 0.1905 - val_acc: 0.9348\n",
            "Epoch 8/15\n",
            "391/391 [==============================] - 18s 45ms/step - loss: 0.3627 - acc: 0.9326 - val_loss: 0.1897 - val_acc: 0.9344\n",
            "Epoch 9/15\n",
            "391/391 [==============================] - 18s 45ms/step - loss: 0.3517 - acc: 0.9361 - val_loss: 0.1944 - val_acc: 0.9345\n",
            "Epoch 10/15\n",
            "391/391 [==============================] - 18s 45ms/step - loss: 0.3435 - acc: 0.9380 - val_loss: 0.1908 - val_acc: 0.9341\n",
            "Epoch 11/15\n",
            "391/391 [==============================] - 18s 45ms/step - loss: 0.3323 - acc: 0.9418 - val_loss: 0.1905 - val_acc: 0.9351\n",
            "Epoch 12/15\n",
            "391/391 [==============================] - 18s 45ms/step - loss: 0.3281 - acc: 0.9462 - val_loss: 0.1920 - val_acc: 0.9343\n",
            "Epoch 13/15\n",
            "391/391 [==============================] - 18s 45ms/step - loss: 0.3204 - acc: 0.9482 - val_loss: 0.1928 - val_acc: 0.9369\n",
            "Epoch 14/15\n",
            "391/391 [==============================] - 18s 45ms/step - loss: 0.3225 - acc: 0.9462 - val_loss: 0.1963 - val_acc: 0.9342\n",
            "Epoch 15/15\n",
            "188/391 [=============>................] - ETA: 8s - loss: 0.3120 - acc: 0.9487"
          ],
          "name": "stdout"
        }
      ]
    },
    {
      "cell_type": "code",
      "metadata": {
        "id": "hsa-SzMbILNU"
      },
      "source": [
        "model.evaluate(test_ds)"
      ],
      "execution_count": null,
      "outputs": []
    },
    {
      "cell_type": "code",
      "metadata": {
        "id": "3JywMfcZILPf"
      },
      "source": [
        "hist.history.keys()"
      ],
      "execution_count": null,
      "outputs": []
    },
    {
      "cell_type": "code",
      "metadata": {
        "id": "QPpY_FjPILRf"
      },
      "source": [
        "plt.figure(figsize=(12,4))\n",
        "\n",
        "plt.subplot(1, 2, 1)\n",
        "plt.plot(hist.history['loss'], 'b--', label='loss')\n",
        "plt.plot(hist.history['val_loss'], 'r:', label='val_loss')\n",
        "plt.xlabel('Epochs')\n",
        "plt.grid()\n",
        "plt.legend()\n",
        "\n",
        "plt.subplot(1, 2, 2)\n",
        "plt.plot(hist.history['acc'], 'b--', label='acc')\n",
        "plt.plot(hist.history['val_acc'], 'r:', label='val_acc')\n",
        "plt.xlabel('Epochs')\n",
        "plt.grid()\n",
        "plt.legend()\n",
        "\n",
        "plt.show()"
      ],
      "execution_count": null,
      "outputs": []
    },
    {
      "cell_type": "code",
      "metadata": {
        "id": "KYM33VGuON-U"
      },
      "source": [
        "prob_pred = model.predict(x_test)\n",
        "prob_label = prob_pred.argmax(axis=-1)\n",
        "np.savetxt('y_pred.csv', prob_label,fmt='%d')"
      ],
      "execution_count": null,
      "outputs": []
    }
  ]
}