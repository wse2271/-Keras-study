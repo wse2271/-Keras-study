{
  "nbformat": 4,
  "nbformat_minor": 0,
  "metadata": {
    "colab": {
      "name": "6-3code실습",
      "provenance": [],
      "collapsed_sections": [],
      "authorship_tag": "ABX9TyNQ+a0ZKNPMGYD5qwwHwjAR",
      "include_colab_link": true
    },
    "kernelspec": {
      "name": "python3",
      "display_name": "Python 3"
    },
    "language_info": {
      "name": "python"
    },
    "accelerator": "TPU"
  },
  "cells": [
    {
      "cell_type": "markdown",
      "metadata": {
        "id": "view-in-github",
        "colab_type": "text"
      },
      "source": [
        "<a href=\"https://colab.research.google.com/github/wse2271/-Keras-study/blob/main/6_3code%EC%8B%A4%EC%8A%B5.ipynb\" target=\"_parent\"><img src=\"https://colab.research.google.com/assets/colab-badge.svg\" alt=\"Open In Colab\"/></a>"
      ]
    },
    {
      "cell_type": "markdown",
      "metadata": {
        "id": "XlxMge3rQDI1"
      },
      "source": [
        "# 6-3 순환 신경망의 고급 사용법 Code 실습\n",
        "\n"
      ]
    },
    {
      "cell_type": "markdown",
      "metadata": {
        "id": "n5Y9gNuzXCKs"
      },
      "source": [
        "## Kaggle과 Google Colab 연동"
      ]
    },
    {
      "cell_type": "code",
      "metadata": {
        "colab": {
          "resources": {
            "http://localhost:8080/nbextensions/google.colab/files.js": {
              "data": "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",
              "ok": true,
              "headers": [
                [
                  "content-type",
                  "application/javascript"
                ]
              ],
              "status": 200,
              "status_text": ""
            }
          },
          "base_uri": "https://localhost:8080/",
          "height": 292
        },
        "id": "romPRxZINmHC",
        "outputId": "ae271f71-ccc5-4475-92e5-60e6a4c5c5a8"
      },
      "source": [
        "!pip install kaggle   # 셸 명령어 이용하여 kaggle Install\n",
        "from google.colab import files # Kaggle에서 API Token Download 하고 colab 환경에 Upload\n",
        "files.upload()"
      ],
      "execution_count": null,
      "outputs": [
        {
          "output_type": "stream",
          "text": [
            "Requirement already satisfied: kaggle in /usr/local/lib/python3.7/dist-packages (1.5.12)\n",
            "Requirement already satisfied: six>=1.10 in /usr/local/lib/python3.7/dist-packages (from kaggle) (1.15.0)\n",
            "Requirement already satisfied: urllib3 in /usr/local/lib/python3.7/dist-packages (from kaggle) (1.24.3)\n",
            "Requirement already satisfied: tqdm in /usr/local/lib/python3.7/dist-packages (from kaggle) (4.41.1)\n",
            "Requirement already satisfied: requests in /usr/local/lib/python3.7/dist-packages (from kaggle) (2.23.0)\n",
            "Requirement already satisfied: certifi in /usr/local/lib/python3.7/dist-packages (from kaggle) (2021.5.30)\n",
            "Requirement already satisfied: python-slugify in /usr/local/lib/python3.7/dist-packages (from kaggle) (5.0.2)\n",
            "Requirement already satisfied: python-dateutil in /usr/local/lib/python3.7/dist-packages (from kaggle) (2.8.1)\n",
            "Requirement already satisfied: idna<3,>=2.5 in /usr/local/lib/python3.7/dist-packages (from requests->kaggle) (2.10)\n",
            "Requirement already satisfied: chardet<4,>=3.0.2 in /usr/local/lib/python3.7/dist-packages (from requests->kaggle) (3.0.4)\n",
            "Requirement already satisfied: text-unidecode>=1.3 in /usr/local/lib/python3.7/dist-packages (from python-slugify->kaggle) (1.3)\n"
          ],
          "name": "stdout"
        },
        {
          "output_type": "display_data",
          "data": {
            "text/html": [
              "\n",
              "     <input type=\"file\" id=\"files-60eed698-08f2-4034-bfc5-26ac3ae7f626\" name=\"files[]\" multiple disabled\n",
              "        style=\"border:none\" />\n",
              "     <output id=\"result-60eed698-08f2-4034-bfc5-26ac3ae7f626\">\n",
              "      Upload widget is only available when the cell has been executed in the\n",
              "      current browser session. Please rerun this cell to enable.\n",
              "      </output>\n",
              "      <script src=\"/nbextensions/google.colab/files.js\"></script> "
            ],
            "text/plain": [
              "<IPython.core.display.HTML object>"
            ]
          },
          "metadata": {
            "tags": []
          }
        },
        {
          "output_type": "stream",
          "text": [
            "Saving kaggle.json to kaggle (1).json\n"
          ],
          "name": "stdout"
        },
        {
          "output_type": "execute_result",
          "data": {
            "text/plain": [
              "{'kaggle.json': b'{\"username\":\"wse2271\",\"key\":\"f513c76f0e6de1895965b106c64cd761\"}'}"
            ]
          },
          "metadata": {
            "tags": []
          },
          "execution_count": 18
        }
      ]
    },
    {
      "cell_type": "code",
      "metadata": {
        "id": "TnMkW6OhNmJM",
        "colab": {
          "base_uri": "https://localhost:8080/"
        },
        "outputId": "67383768-50af-4bbb-a42b-e7bed6ce2742"
      },
      "source": [
        "!mkdir -p ~/.kaggle #.kaggle 디렉토리 생성(-p : 상위 경로도 함께 생성)\n",
        "!cp kaggle.json ~/.kaggle/ #kaggle.json file 복사\n",
        "!chmod 600 ~/.kaggle/kaggle.json #kaggle.json file 사용권한 변경(소유자에만 읽기쓰기 권한)\n"
      ],
      "execution_count": null,
      "outputs": [
        {
          "output_type": "stream",
          "text": [
            "jena_climate_2009_2016.csv  kaggle.json  weather-archive-jena.zip\n"
          ],
          "name": "stdout"
        }
      ]
    },
    {
      "cell_type": "code",
      "metadata": {
        "colab": {
          "base_uri": "https://localhost:8080/"
        },
        "id": "lwpDKWcSPaxc",
        "outputId": "157ec8e8-d454-44ee-e301-adab0b082d3a"
      },
      "source": [
        "!kaggle datasets download -d pankrzysiu/weather-archive-jena #kaggle에서 필요한 datasets API command 복사 "
      ],
      "execution_count": null,
      "outputs": [
        {
          "output_type": "stream",
          "text": [
            "Downloading weather-archive-jena.zip to /content\n",
            " 38% 5.00M/13.2M [00:00<00:00, 17.9MB/s]\n",
            "100% 13.2M/13.2M [00:00<00:00, 38.0MB/s]\n"
          ],
          "name": "stdout"
        }
      ]
    },
    {
      "cell_type": "code",
      "metadata": {
        "colab": {
          "base_uri": "https://localhost:8080/"
        },
        "id": "Vu2CggzbPazz",
        "outputId": "8cda5816-f533-485a-c2e5-c1816fae9773"
      },
      "source": [
        "!unzip weather-archive-jena.zip #jena data 압축풀기"
      ],
      "execution_count": null,
      "outputs": [
        {
          "output_type": "stream",
          "text": [
            "Archive:  weather-archive-jena.zip\n",
            "  inflating: jena_climate_2009_2016.csv  \n"
          ],
          "name": "stdout"
        }
      ]
    },
    {
      "cell_type": "code",
      "metadata": {
        "colab": {
          "base_uri": "https://localhost:8080/"
        },
        "id": "scRG5V2oPa2F",
        "outputId": "dafb8bb5-da5e-45a0-d8ea-0536027fcef3"
      },
      "source": [
        "!ls #디렉토리 리스트 확인"
      ],
      "execution_count": null,
      "outputs": [
        {
          "output_type": "stream",
          "text": [
            "jena_climate_2009_2016.csv  kaggle.json  sample_data  weather-archive-jena.zip\n"
          ],
          "name": "stdout"
        }
      ]
    },
    {
      "cell_type": "markdown",
      "metadata": {
        "id": "sbJdtDoUZ3QE"
      },
      "source": [
        "## Google Colab과 Google Drive 연동"
      ]
    },
    {
      "cell_type": "code",
      "metadata": {
        "colab": {
          "base_uri": "https://localhost:8080/"
        },
        "id": "PyOuILZZPa63",
        "outputId": "0370793a-f5ff-404a-e6f8-d1e249924cc9"
      },
      "source": [
        "from google.colab import drive  #Google Colab과 Google Drive 연결\n",
        "drive.mount('/content/gdrive')"
      ],
      "execution_count": null,
      "outputs": [
        {
          "output_type": "stream",
          "text": [
            "Mounted at /content/gdrive\n"
          ],
          "name": "stdout"
        }
      ]
    },
    {
      "cell_type": "code",
      "metadata": {
        "colab": {
          "base_uri": "https://localhost:8080/"
        },
        "id": "wFcRGKZ9bUpu",
        "outputId": "fde0cb31-c194-49d3-bff5-44e125d5c1aa"
      },
      "source": [
        "cd /content/gdrive/My Drive/Colab Notebooks/kaggle\n"
      ],
      "execution_count": null,
      "outputs": [
        {
          "output_type": "stream",
          "text": [
            "/content/gdrive/My Drive/Colab Notebooks/kaggle\n"
          ],
          "name": "stdout"
        }
      ]
    },
    {
      "cell_type": "code",
      "metadata": {
        "colab": {
          "base_uri": "https://localhost:8080/"
        },
        "id": "Aj3-laGxafC7",
        "outputId": "388aba68-a37f-402c-fa80-2eb5912c64c6"
      },
      "source": [
        "!pwd #현재 경로 보기"
      ],
      "execution_count": null,
      "outputs": [
        {
          "output_type": "stream",
          "text": [
            "/content/gdrive/My Drive/Colab Notebooks/kaggle\n"
          ],
          "name": "stdout"
        }
      ]
    },
    {
      "cell_type": "code",
      "metadata": {
        "colab": {
          "base_uri": "https://localhost:8080/"
        },
        "id": "6FsZ8PUbbi-T",
        "outputId": "bf8e0102-6f53-4861-8484-f0e296a1f8bd"
      },
      "source": [
        "!kaggle datasets download -d pankrzysiu/weather-archive-jena #kaggle에서 필요한 datasets API command 복사"
      ],
      "execution_count": null,
      "outputs": [
        {
          "output_type": "stream",
          "text": [
            "Traceback (most recent call last):\n",
            "  File \"/usr/local/bin/kaggle\", line 5, in <module>\n",
            "    from kaggle.cli import main\n",
            "  File \"/usr/local/lib/python2.7/dist-packages/kaggle/__init__.py\", line 23, in <module>\n",
            "    api.authenticate()\n",
            "  File \"/usr/local/lib/python2.7/dist-packages/kaggle/api/kaggle_api_extended.py\", line 146, in authenticate\n",
            "    self.config_file, self.config_dir))\n",
            "IOError: Could not find kaggle.json. Make sure it's located in /root/.kaggle. Or use the environment method.\n"
          ],
          "name": "stdout"
        }
      ]
    },
    {
      "cell_type": "code",
      "metadata": {
        "colab": {
          "base_uri": "https://localhost:8080/"
        },
        "id": "GpX_E_IcbwEB",
        "outputId": "41b2e8ed-399e-45be-b06c-f7adb3ade87a"
      },
      "source": [
        "!unzip englishfrench-translations.zip  #jena data 압축풀기"
      ],
      "execution_count": null,
      "outputs": [
        {
          "output_type": "stream",
          "text": [
            "unzip:  cannot find or open englishfrench-translations.zip, englishfrench-translations.zip.zip or englishfrench-translations.zip.ZIP.\n"
          ],
          "name": "stdout"
        }
      ]
    },
    {
      "cell_type": "code",
      "metadata": {
        "colab": {
          "base_uri": "https://localhost:8080/"
        },
        "id": "PoqC0hSwbwGV",
        "outputId": "30101271-7446-4ec8-f515-7e0b1e21f428"
      },
      "source": [
        "!ls #디렉토리 리스트 확인"
      ],
      "execution_count": null,
      "outputs": [
        {
          "output_type": "stream",
          "text": [
            "jena_climate_2009_2016.csv  kaggle.json  weather-archive-jena.zip\n"
          ],
          "name": "stdout"
        }
      ]
    },
    {
      "cell_type": "markdown",
      "metadata": {
        "id": "nqPye534an0M"
      },
      "source": [
        "## jena weather Datasets 확인 "
      ]
    },
    {
      "cell_type": "code",
      "metadata": {
        "colab": {
          "base_uri": "https://localhost:8080/",
          "height": 204
        },
        "id": "OuISmCPlRSJs",
        "outputId": "4934f858-95a9-492a-fe9e-21625891b9a7"
      },
      "source": [
        "import pandas as pd \n",
        "\n",
        "#pandas DataFrame 형식으로 Datasets 확인\n",
        "df1 = pd.read_csv('jena_climate_2009_2016.csv')\n",
        "df1.head()"
      ],
      "execution_count": null,
      "outputs": [
        {
          "output_type": "execute_result",
          "data": {
            "text/html": [
              "<div>\n",
              "<style scoped>\n",
              "    .dataframe tbody tr th:only-of-type {\n",
              "        vertical-align: middle;\n",
              "    }\n",
              "\n",
              "    .dataframe tbody tr th {\n",
              "        vertical-align: top;\n",
              "    }\n",
              "\n",
              "    .dataframe thead th {\n",
              "        text-align: right;\n",
              "    }\n",
              "</style>\n",
              "<table border=\"1\" class=\"dataframe\">\n",
              "  <thead>\n",
              "    <tr style=\"text-align: right;\">\n",
              "      <th></th>\n",
              "      <th>Date Time</th>\n",
              "      <th>p (mbar)</th>\n",
              "      <th>T (degC)</th>\n",
              "      <th>Tpot (K)</th>\n",
              "      <th>Tdew (degC)</th>\n",
              "      <th>rh (%)</th>\n",
              "      <th>VPmax (mbar)</th>\n",
              "      <th>VPact (mbar)</th>\n",
              "      <th>VPdef (mbar)</th>\n",
              "      <th>sh (g/kg)</th>\n",
              "      <th>H2OC (mmol/mol)</th>\n",
              "      <th>rho (g/m**3)</th>\n",
              "      <th>wv (m/s)</th>\n",
              "      <th>max. wv (m/s)</th>\n",
              "      <th>wd (deg)</th>\n",
              "    </tr>\n",
              "  </thead>\n",
              "  <tbody>\n",
              "    <tr>\n",
              "      <th>0</th>\n",
              "      <td>01.01.2009 00:10:00</td>\n",
              "      <td>996.52</td>\n",
              "      <td>-8.02</td>\n",
              "      <td>265.40</td>\n",
              "      <td>-8.90</td>\n",
              "      <td>93.3</td>\n",
              "      <td>3.33</td>\n",
              "      <td>3.11</td>\n",
              "      <td>0.22</td>\n",
              "      <td>1.94</td>\n",
              "      <td>3.12</td>\n",
              "      <td>1307.75</td>\n",
              "      <td>1.03</td>\n",
              "      <td>1.75</td>\n",
              "      <td>152.3</td>\n",
              "    </tr>\n",
              "    <tr>\n",
              "      <th>1</th>\n",
              "      <td>01.01.2009 00:20:00</td>\n",
              "      <td>996.57</td>\n",
              "      <td>-8.41</td>\n",
              "      <td>265.01</td>\n",
              "      <td>-9.28</td>\n",
              "      <td>93.4</td>\n",
              "      <td>3.23</td>\n",
              "      <td>3.02</td>\n",
              "      <td>0.21</td>\n",
              "      <td>1.89</td>\n",
              "      <td>3.03</td>\n",
              "      <td>1309.80</td>\n",
              "      <td>0.72</td>\n",
              "      <td>1.50</td>\n",
              "      <td>136.1</td>\n",
              "    </tr>\n",
              "    <tr>\n",
              "      <th>2</th>\n",
              "      <td>01.01.2009 00:30:00</td>\n",
              "      <td>996.53</td>\n",
              "      <td>-8.51</td>\n",
              "      <td>264.91</td>\n",
              "      <td>-9.31</td>\n",
              "      <td>93.9</td>\n",
              "      <td>3.21</td>\n",
              "      <td>3.01</td>\n",
              "      <td>0.20</td>\n",
              "      <td>1.88</td>\n",
              "      <td>3.02</td>\n",
              "      <td>1310.24</td>\n",
              "      <td>0.19</td>\n",
              "      <td>0.63</td>\n",
              "      <td>171.6</td>\n",
              "    </tr>\n",
              "    <tr>\n",
              "      <th>3</th>\n",
              "      <td>01.01.2009 00:40:00</td>\n",
              "      <td>996.51</td>\n",
              "      <td>-8.31</td>\n",
              "      <td>265.12</td>\n",
              "      <td>-9.07</td>\n",
              "      <td>94.2</td>\n",
              "      <td>3.26</td>\n",
              "      <td>3.07</td>\n",
              "      <td>0.19</td>\n",
              "      <td>1.92</td>\n",
              "      <td>3.08</td>\n",
              "      <td>1309.19</td>\n",
              "      <td>0.34</td>\n",
              "      <td>0.50</td>\n",
              "      <td>198.0</td>\n",
              "    </tr>\n",
              "    <tr>\n",
              "      <th>4</th>\n",
              "      <td>01.01.2009 00:50:00</td>\n",
              "      <td>996.51</td>\n",
              "      <td>-8.27</td>\n",
              "      <td>265.15</td>\n",
              "      <td>-9.04</td>\n",
              "      <td>94.1</td>\n",
              "      <td>3.27</td>\n",
              "      <td>3.08</td>\n",
              "      <td>0.19</td>\n",
              "      <td>1.92</td>\n",
              "      <td>3.09</td>\n",
              "      <td>1309.00</td>\n",
              "      <td>0.32</td>\n",
              "      <td>0.63</td>\n",
              "      <td>214.3</td>\n",
              "    </tr>\n",
              "  </tbody>\n",
              "</table>\n",
              "</div>"
            ],
            "text/plain": [
              "             Date Time  p (mbar)  T (degC)  ...  wv (m/s)  max. wv (m/s)  wd (deg)\n",
              "0  01.01.2009 00:10:00    996.52     -8.02  ...      1.03           1.75     152.3\n",
              "1  01.01.2009 00:20:00    996.57     -8.41  ...      0.72           1.50     136.1\n",
              "2  01.01.2009 00:30:00    996.53     -8.51  ...      0.19           0.63     171.6\n",
              "3  01.01.2009 00:40:00    996.51     -8.31  ...      0.34           0.50     198.0\n",
              "4  01.01.2009 00:50:00    996.51     -8.27  ...      0.32           0.63     214.3\n",
              "\n",
              "[5 rows x 15 columns]"
            ]
          },
          "metadata": {
            "tags": []
          },
          "execution_count": 4
        }
      ]
    },
    {
      "cell_type": "code",
      "metadata": {
        "colab": {
          "base_uri": "https://localhost:8080/",
          "height": 71
        },
        "id": "8gT3lMgPRSCp",
        "outputId": "173e6f9b-d1f8-4bb3-c77b-8bd4ff8023aa"
      },
      "source": [
        "import os\n",
        "\n",
        "data_dir = '/content/gdrive/My Drive/Colab Notebooks/kaggle'  #Datasets 경로 생성\n",
        "fname = os.path.join(data_dir, 'jena_climate_2009_2016.csv')\n",
        "\n",
        "f = open(fname) #Datasets read\n",
        "data = f.read()\n",
        "f.close()\n",
        "\n",
        "lines = data.split('\\n') #이스케이프 문자 활용하여 rows 분할\n",
        "header = lines[0].split(',') \n",
        "lines = lines[1:]\n",
        "\n",
        "print(header) \n",
        "print(len(lines))\n",
        "lines[1]"
      ],
      "execution_count": null,
      "outputs": [
        {
          "output_type": "stream",
          "text": [
            "['\"Date Time\"', '\"p (mbar)\"', '\"T (degC)\"', '\"Tpot (K)\"', '\"Tdew (degC)\"', '\"rh (%)\"', '\"VPmax (mbar)\"', '\"VPact (mbar)\"', '\"VPdef (mbar)\"', '\"sh (g/kg)\"', '\"H2OC (mmol/mol)\"', '\"rho (g/m**3)\"', '\"wv (m/s)\"', '\"max. wv (m/s)\"', '\"wd (deg)\"']\n",
            "420551\n"
          ],
          "name": "stdout"
        },
        {
          "output_type": "execute_result",
          "data": {
            "application/vnd.google.colaboratory.intrinsic+json": {
              "type": "string"
            },
            "text/plain": [
              "'01.01.2009 00:20:00,996.57,-8.41,265.01,-9.28,93.40,3.23,3.02,0.21,1.89,3.03,1309.80,0.72,1.50,136.10'"
            ]
          },
          "metadata": {
            "tags": []
          },
          "execution_count": 5
        }
      ]
    },
    {
      "cell_type": "code",
      "metadata": {
        "id": "xQDnI7A0YqXr"
      },
      "source": [
        "import numpy as np \n",
        "\n",
        "#Numpy array 형식으로 변환\n",
        "float_data = np.zeros((len(lines), len(header) - 1))  \n",
        "for i, line in enumerate(lines):\n",
        "    values = [float(x) for x in line.split(',')[1:]]\n",
        "    float_data[i, :] = values"
      ],
      "execution_count": null,
      "outputs": []
    },
    {
      "cell_type": "code",
      "metadata": {
        "colab": {
          "base_uri": "https://localhost:8080/"
        },
        "id": "Eeos4sVGcv-I",
        "outputId": "f88f71c3-454a-40c3-fb86-3930f15bb690"
      },
      "source": [
        "float_data.shape "
      ],
      "execution_count": null,
      "outputs": [
        {
          "output_type": "execute_result",
          "data": {
            "text/plain": [
              "(420551, 14)"
            ]
          },
          "metadata": {
            "tags": []
          },
          "execution_count": 7
        }
      ]
    },
    {
      "cell_type": "code",
      "metadata": {
        "colab": {
          "base_uri": "https://localhost:8080/"
        },
        "id": "pFxEA6w6YqaR",
        "outputId": "7954181a-ec6d-4ec9-d863-c01f67544eea"
      },
      "source": [
        "float_data #정규화 하기 전 data 확인"
      ],
      "execution_count": null,
      "outputs": [
        {
          "output_type": "execute_result",
          "data": {
            "text/plain": [
              "array([[ 9.9652e+02, -8.0200e+00,  2.6540e+02, ...,  1.0300e+00,\n",
              "         1.7500e+00,  1.5230e+02],\n",
              "       [ 9.9657e+02, -8.4100e+00,  2.6501e+02, ...,  7.2000e-01,\n",
              "         1.5000e+00,  1.3610e+02],\n",
              "       [ 9.9653e+02, -8.5100e+00,  2.6491e+02, ...,  1.9000e-01,\n",
              "         6.3000e-01,  1.7160e+02],\n",
              "       ...,\n",
              "       [ 9.9982e+02, -3.1600e+00,  2.7001e+02, ...,  1.0800e+00,\n",
              "         2.0000e+00,  2.1520e+02],\n",
              "       [ 9.9981e+02, -4.2300e+00,  2.6894e+02, ...,  1.4900e+00,\n",
              "         2.1600e+00,  2.2580e+02],\n",
              "       [ 9.9982e+02, -4.8200e+00,  2.6836e+02, ...,  1.2300e+00,\n",
              "         1.9600e+00,  1.8490e+02]])"
            ]
          },
          "metadata": {
            "tags": []
          },
          "execution_count": 8
        }
      ]
    },
    {
      "cell_type": "code",
      "metadata": {
        "colab": {
          "base_uri": "https://localhost:8080/",
          "height": 268
        },
        "id": "Xa5zu2FkYqco",
        "outputId": "69feb877-9674-421d-ddde-5810224d4e8f"
      },
      "source": [
        "from matplotlib import pyplot as plt #09~16년 Data 시각화\n",
        "temp = float_data[:, 1]  # 온도(섭씨)\n",
        "plt.plot(range(len(temp)), temp)\n",
        "plt.show()"
      ],
      "execution_count": null,
      "outputs": [
        {
          "output_type": "display_data",
          "data": {
            "image/png": "[encoded data removed]",
            "text/plain": [
              "<Figure size 432x288 with 1 Axes>"
            ]
          },
          "metadata": {
            "tags": [],
            "needs_background": "light"
          }
        }
      ]
    },
    {
      "cell_type": "code",
      "metadata": {
        "colab": {
          "base_uri": "https://localhost:8080/",
          "height": 265
        },
        "id": "yk8JLHgOeBtc",
        "outputId": "2ba887a7-f05a-4afe-8e12-eba0273228cb"
      },
      "source": [
        "plt.plot(range(1440), temp[:1440]) #10일간의 Data 시각화\n",
        "plt.show()"
      ],
      "execution_count": null,
      "outputs": [
        {
          "output_type": "display_data",
          "data": {
            "image/png": "[encoded data removed]",
            "text/plain": [
              "<Figure size 432x288 with 1 Axes>"
            ]
          },
          "metadata": {
            "tags": [],
            "needs_background": "light"
          }
        }
      ]
    },
    {
      "cell_type": "markdown",
      "metadata": {
        "id": "5_iZBzUrP1wv"
      },
      "source": [
        "# Data 전처리 및 준비\n"
      ]
    },
    {
      "cell_type": "markdown",
      "metadata": {
        "id": "G-3gTJv601q2"
      },
      "source": [
        "## 정규화 (0~1 구간으로 변경)\n",
        "![image.png](data:image/png;base64,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)"
      ]
    },
    {
      "cell_type": "markdown",
      "metadata": {
        "id": "1jhKs7eB1PDW"
      },
      "source": [
        "##표준화(데이터 0을 중심으로 양쪽으로 데이터를 분포)\n",
        "![image.png](data:image/png;base64,iVBORw0KGgoAAAANSUhEUgAAAOoAAAB3CAYAAAANbNzTAAANSklEQVR4Ae2dC1RVVRrHj48wa8KwHJ0mHdLR1FlkYFZg5gtzhGLSLDNtjTmlGbo0dVA0texllFOGaaGOmpmmaZo1Kj5Ry0CvRTOQiOAD0ETkJc94/Gdx7vFeL9zLvQcunLMPf9c6y3P3/vbe3/59+88+j33OkcB/JEACuicg6d5DOkgCJAAKlYOABAQgQKEKECS6SAIUKscACQhAgEIVIEh0kQQoVI4BEhCAAIUqQJDoIglQqBwDJCAAAQpVgCDRRRKgUDkGSEAAAhSqAEGiiyRAoXIMkIAABChUAYJEF0mAQuUYIAEBCFCoAgSJLpIAhcoxQAICEKBQBQgSXSQBCpVjgAQEIEChChAkukgCFCrHAAkIQIBCFSBIdJEEKFSOAYMQKEfGuVSkpKbizJkzDreU08nIyC4Urs8UqnAho8P2CaTDW5IgubB5z/zcfhU6TqVQdRwcuqaGQAFWRryO2XPmYt68eQ632TOnY+WhJDUV68KWQtVFGOgECdROgEKtnQ9zSUAXBChUXYSh4ZwoKchD5uUCBw2U4vKlLFQ6yBUuuaIUVy5eRrkDx69mZSK/pMJBrr6TKVR9x6dO3mUk/oD357wEf59uaHtTC0hSS6w/aTt88+I34a62N8kXX/o+v6JO7eihUEVhFqI3LcfoQQHw/uNtcn86P7O4mmu5mDO6H5pVXWhq+yBizpdWy9f/TwpV/zFS6WEBDn67H5cKylCUehCdW5uvhPo8sdJST1bcCnh18kVIwF3ywL7Fb44lT7Sdcz8dhelkGoBKRI5/ULnqeysSLR3JwbiB9+LhkL/BQ74i7IGtCY6OMCyFdLdDoeouJO51KOoJP/Pg9R4G+e7h2b3o/8BEy+FheaF4g9YRoZLEL+Gl3J6Zvj9PNls8egTe25mhFKlE8W+OSus7nULVd3zq7V3Spn8qs0wXnCwpRNizT2NfuvPztIKLpxF/6td6t9+oFZSewf0dm8v9ffSVOJzauQjj3/m6UV1oqMYo1IYiq5d603ahtXLINzgwBK+sjnPuWdlZ9O5QNeDbYOsZ23Nb54W1tKhE+EPmw/mOPv0RHDwDgv2pcQiPQnWIxigZlzHwdvN5qqfvS+bDX6dd+xVB3jdCkjpj3yWnxgDK8b+j+7FrdzT27NlTzy0aO3fvw7nsul3wORLxlHIE0RxR8fmuOC+EDYUqRJjq5+Ss4G7y4PUNUXN1twxFZS62W5mGQTe5tnzPlSV+VTbTPk1wsXFbs4IfVytC7YwTxtEpP2RsG2Zj/op95TF58Lbq8QSyjdlFa68qE9FVuaD01iGXDgesZXW8xxlVx8Fxi2s5Jtxzyw3KLPMnRJ93YZqsKMb5pESkXjRfOXWLH41UyaoJQ5W+Snhg2vZGarXhm6FQG56xhi3kY9IAf2w8Fofuyiwz/6tTDv1JOrgNL44aBE+P5pBatscXiWI9DpaweQH6PrMIX04LksXa3i8UxQ57K1YGhSpWvFR5G/1eKILCNstlJviaZ9Vek9c5qSMVbSQJLdqPQJYTS11lZ8Whv/+T+AVAxfcR5lnV8x6YcnTlZZ2doVDrjE7fBYtPfoEBwVNRpLi5Zfoj8uD19H4OliUOxUlYvHQXrr+rWvzjKtnu7glr9N3Bat7NHT4Anxy5oKQmoJV8BHEjlsVYb9BsXxaJxCtirnigUKsFXNSfJVnncPJ8ruL+WfzV/ynEX7X2JvuAMst4dEKMMsuEj3gM3/9qe8769WzzOd7C7SnWwrrb+w2nEpIsf2C2hY3CCyuP23g5soP5KvSA+d/K6cWxSzA6fJuNjUg/KFSRouXI1/yfcIdyDnpnn8Ho2TEAB9KrL1Q4jU6KTUe/YQgJ6IU3jtS8Bvy8b9UA74bYmlmOWm/09FUv9TEf2rZsj2H9/PDYy1tr+PBpaIDZRuqAp8c+iS5Bs2vYiJRAoYoULYe+ZmKcssBeuuHP+E+K/cUCG+Y+bh68rW7H1FWxdmq7gD9IErx8p+j6IszRNWHKAnsJgyY6uDecvg+dbjbPqt0CJ0L0GzUUqp3hKmRSZRGSE5PhbEFPxplkZObbHu5a+hsfJQu5f/guS5Jed7IzziLl/OVa3SvJzkBKmugSNXeRQq011E0rc/eMIbJQl58w3z+tNM4j5cIHkkIVPoTu68D4vl6QpN7yQvaKjHhs3fuz+ypnTfUiQKHWC5+RCl+C/80SWvcLQ3l2At6LWOniAn4jMdBvXyhU/camkT0rw8tD2suHvkNf+AAGWSfQyAwbrjkKteHYilfzb1eRdoES1WPgKFQ9RoU+kUA1AhRqNSD8SQJ6JGAYoZYlfWG+ma+svnH0gPLHh2u/96bHINEnEjCMUGPeeFQWaue7/4IePbqje3dl69ETfXr3hCQ1x2s7kt0a8bKiAuTm5iE/P98tW15eHvKuGuXBLLeibvKVGUSoOXj2oUFYa7I+KXF9ZA8vm4xn3t15fVL993Pj0UN5F5Gj2btu6S2w6r9iPQdaf5iswRkBQwi1NOMEFq/bbbevBabP8PDwiFrX2Hy34V2EjAlXeUuiAukpiYiNOwaTyeSW7fixYzAlJKPUMN+YsBsSJtaBgCGE6rDfmT9gcJ9RuO5pLzummfBTZsap0Vfs5IuRVF5ejoqKClRWVnKrhUFZmYN1zjoPs4GFeh5jgoJhcuEo8tCKBRg6chbEe0OQdXR5eVUt/3PvmwCNWl98fLwVnCB7BhVqMV4ePQrrE6+930CQaNTDTQrV9T9SFGo9Bpo7i0ZN+juW7BDvq9L1YcBDX9cO+as4ifjPcDPqwWVTEBZ10GksCrLScXjvN9i4fjVeC5uGT3Y5fjuf3crKc7B5zXK8/8ESREZGumX7cMkS/CsyCsl5vJpkl3kTTjSUUPOOrcXQydbPC9YW19yLqYjZstTy9a/NZ2uztpNXeBpBfh3cf17o1QXfpIr5Ai47lJjkJgLGEWpmHIIHzVCJJR09vCRIno/r+tUjKjtFcwMSMIhQ0zBp9PPW12C6GKgrR5ajpSSh68QoF0vQjAS0IWAIoS4c0ct8CPo7b8yK3OEyya2vmpcdLtiS6nIZGpKAFgSEF+rHL1x7LaT18nyvsYtsDmXLLpgwMzQUG76zFeTUXq0hNbsLR4R6JbwWw4Rtak1AaKHmJcdh9edbEXv8OPZsX4tRAVWL782CDZxu/XRD2lfhcnoz78mwrEupTEIHSULrrpNQonUU2D4JOCEgtFDt9e304U0Y3PVWWZjPRuxTTJLRVpIQ8na0pUjOofdlm77zjfPFL0vnuGM4AoYT6rUIxX29HIG9feFz7xBMD5+NRR9fE63Z4svpA2WhLjucKSekXci4VpT/k4DuCBhWqM5Iv+jfElK7/vIXyy7EbMJne087K8J8EtCMQJMV6vA7JEg3dMG81xZhycb9mgWADZOAKwSarFCPb1wAvz7B+GjbMVc40YYENCXQZIWqKXU2TgIqCVCoKoHRnAS0IEChakG9ibRZdiUFGz56C7MXLcOReOuHkU/EHK/11ThNBI+qblKoqnDR2DUCxYgY11e+/fXmhv1IOpWILUvnyveyqxakPPLqUdeqoZWFAIVqQcEddxHYu3iMLNJ+U2wXk1w8+KGcHhaT766mmkw9FGqTCXVjdbQIz3X2lAU5csHhao2WYXC7G/G52md/q9XSFH9SqE0x6g3a5yw88vvWslAlnwk1WooK+Qdi+Vx8DS7OEihUZ4SYr5rAivF9zEKVJCyMKbApX5Sba30wwiaHP2ojQKHWRod5dSJQcmoHPC2vLu0KE09J68Tx+kIU6vU0uO82AjteHW6ZVW+7L1TlVwjc5oZhKqJQDRNKvXUkD2N82ljEOnbxAb05KJQ/FKpQ4RLM2SsH4HHtEPjm+/CT7emqYJ3R1l0KVVv+hmk992wysiyvz7B2a92k+y2z6sxPE6wZ3FNFgEJVhYvGjggcmjUMEfF2lHo1Fq2UWfWhGRscFWe6EwIUqhNAzHaNwL8f7Qb/MHtfKChEcAvze6xCPzG5VhmtahCgUGsgYUJdCIQNuRPSLYF2ru7+gnZVM6pHTxzl2x7rglYuQ6HWGR0LWgmUIKhnM/lcNGDiUuSUWnPeGekDSfLA/E0/WxO5p5oAhaoaGQvUIFCYhHFPT0Fi0s9Y+fbrmDsnDCGB/dHvgX4IfHIyvkvJrVGECeoIUKjqeNGaBDQhQKFqgp2NkoA6AhSqOl60JgFNCFCommBnoySgjgCFqo4XrUlAEwIUqibY2SgJqCNAoarjRWsS0IQAhaoJdjZKAuoIUKjqeNGaBDQhQKFqgp2NkoA6AhSqOl60JgFNCFCommBnoySgjgCFqo4XrUlAEwIUqibY2SgJqCNAoarjRWsS0IQAhaoJdjZKAuoIUKjqeNGaBDQhQKFqgp2NkoA6AhSqOl60JgFNCFCommBnoySgjgCFqo4XrUlAEwIUqibY2SgJqCNAoarjRWsS0IQAhaoJdjZKAuoIUKjqeNGaBDQhQKFqgp2NkoA6AhSqOl60JgFNCFCommBnoySgjgCFqo4XrUlAEwIUqibY2SgJqCPwf3nbROXMUJpeAAAAAElFTkSuQmCC)"
      ]
    },
    {
      "cell_type": "code",
      "metadata": {
        "id": "WPcCWO55eEaf",
        "colab": {
          "base_uri": "https://localhost:8080/"
        },
        "outputId": "417d9a73-29d4-4d0b-9c0b-e69f9b9c659b"
      },
      "source": [
        "mean = float_data[:200000].mean(axis=0)  #표준화 진행\n",
        "float_data -= mean\n",
        "print(mean)\n",
        "float_data"
      ],
      "execution_count": null,
      "outputs": [
        {
          "output_type": "stream",
          "text": [
            "[ 2.35142852e-12 -6.28273600e-15  7.46772859e-13 -1.21087956e-14\n",
            "  2.42951509e-14  4.34444314e-15 -6.97213176e-15 -1.16579003e-14\n",
            "  2.78895790e-14  7.98244804e-16 -1.30972425e-13  1.37250925e-14\n",
            " -5.88101390e-14 -2.93813751e-15]\n"
          ],
          "name": "stdout"
        }
      ]
    },
    {
      "cell_type": "code",
      "metadata": {
        "colab": {
          "base_uri": "https://localhost:8080/"
        },
        "id": "KYj5tTi_Hgk7",
        "outputId": "7d298406-3e61-46d1-a5ef-318be44cac5c"
      },
      "source": [
        "std = float_data[:200000].std(axis=0) #표준화 진행\n",
        "float_data /= std\n",
        "print(std)\n",
        "float_data"
      ],
      "execution_count": null,
      "outputs": [
        {
          "output_type": "execute_result",
          "data": {
            "text/plain": [
              "array([[ 0.90014748, -1.93135845, -1.98211036, ..., -0.72950452,\n",
              "        -0.78067973, -0.27613603],\n",
              "       [ 0.9060434 , -1.97541381, -2.02567   , ..., -0.93124017,\n",
              "        -0.88794488, -0.46317443],\n",
              "       [ 0.90132666, -1.98671006, -2.03683914, ..., -1.27614304,\n",
              "        -1.26122763, -0.05330633],\n",
              "       ...,\n",
              "       [ 1.28927851, -1.38236094, -1.46721307, ..., -0.69696652,\n",
              "        -0.67341457,  0.45008097],\n",
              "       [ 1.28809932, -1.50323076, -1.58672285, ..., -0.43015486,\n",
              "        -0.60476487,  0.57246412],\n",
              "       [ 1.28927851, -1.56987861, -1.65150386, ..., -0.5993525 ,\n",
              "        -0.690577  ,  0.10024989]])"
            ]
          },
          "metadata": {
            "tags": []
          },
          "execution_count": 12
        }
      ]
    },
    {
      "cell_type": "code",
      "metadata": {
        "id": "jy2lUcmOErQv"
      },
      "source": [
        "#제너레이터 형식으로 samples, targets Data 반환 함수\n",
        "def generator(data, lookback, delay, min_index, max_index,              \n",
        "              shuffle=False, batch_size=128, step=6):\n",
        "    if max_index is None:   #max_index 없을시 24시간 전 data까지 max_index 설정\n",
        "        max_index = len(data) - delay - 1\n",
        "    i = min_index + lookback  #index 설정\n",
        "    while 1:\n",
        "        if shuffle: #shuffle True 설정 시 random index 반환(batch_size만큼 반환)\n",
        "            rows = np.random.randint(\n",
        "                min_index + lookback, max_index, size=batch_size)\n",
        "        else: #shuffle False 설정 시 순서대로 index 반환\n",
        "            if i + batch_size >= max_index:  #max_index 넘으면 초기부터 반환\n",
        "                i = min_index + lookback\n",
        "            rows = np.arange(i, min(i + batch_size, max_index))\n",
        "            i += len(rows)\n",
        "\n",
        "        samples = np.zeros((len(rows),           \n",
        "                           lookback // step,\n",
        "                           data.shape[-1]))\n",
        "        targets = np.zeros((len(rows),))\n",
        "        for j, row in enumerate(rows):           #samples, targets data 반환\n",
        "            indices = range(rows[j] - lookback, rows[j], step)\n",
        "            samples[j] = data[indices] #10일 간의 Data를 1시간 step으로 정리 \n",
        "            targets[j] = data[rows[j] + delay][1] #24시간 후의 섭씨data 반환\n",
        "        yield samples, targets"
      ],
      "execution_count": null,
      "outputs": []
    },
    {
      "cell_type": "code",
      "metadata": {
        "id": "iUdiQP9kE6TY"
      },
      "source": [
        "lookback = 1440\n",
        "step = 6\n",
        "delay = 144\n",
        "batch_size = 128\n",
        "\n",
        "train_gen = generator(float_data,\n",
        "                      lookback=lookback,\n",
        "                      delay=delay,\n",
        "                      min_index=0,\n",
        "                      max_index=200000,\n",
        "                      shuffle=True,\n",
        "                      step=step, \n",
        "                      batch_size=batch_size)\n",
        "val_gen = generator(float_data,\n",
        "                    lookback=lookback,\n",
        "                    delay=delay,\n",
        "                    min_index=200001,\n",
        "                    max_index=300000,\n",
        "                    step=step,\n",
        "                    batch_size=batch_size)\n",
        "test_gen = generator(float_data,\n",
        "                     lookback=lookback,\n",
        "                     delay=delay,\n",
        "                     min_index=300001,\n",
        "                     max_index=None,\n",
        "                     step=step,\n",
        "                     batch_size=batch_size)\n",
        "\n",
        "# 전체 검증 세트를 순회하기 위해 val_gen에서 추출할 횟수\n",
        "val_steps = (300000 - 200001 - lookback) // batch_size\n",
        "\n",
        "# 전체 테스트 세트를 순회하기 위해 test_gen에서 추출할 횟수\n",
        "test_steps = (len(float_data) - 300001 - lookback) // batch_size"
      ],
      "execution_count": null,
      "outputs": []
    },
    {
      "cell_type": "markdown",
      "metadata": {
        "id": "fQ8Pyk7BBAyt"
      },
      "source": [
        "#상식 수준의 기준점"
      ]
    },
    {
      "cell_type": "markdown",
      "metadata": {
        "id": "RAMmlYj3BcE1"
      },
      "source": [
        "##평균 절댓값 오차(MAE) 평가\n",
        "### 24시간 후 온도가 지금과 동일하다고 예측\n",
        "![image.png](data:image/png;base64,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)\n",
        "     "
      ]
    },
    {
      "cell_type": "code",
      "metadata": {
        "colab": {
          "base_uri": "https://localhost:8080/"
        },
        "id": "zNm0-AKLE6Vi",
        "outputId": "b5cc39a9-4cc6-49b4-b1b6-dbec352bc0ab"
      },
      "source": [
        "def evaluate_naive_method(): #MAE값 구하기\n",
        "    batch_maes = []\n",
        "    for step in range(val_steps): \n",
        "        samples, targets = next(val_gen)  #next명령어로 val_gen값 1회 출력 \n",
        "        preds = samples[:, -1, 1]   #섭씨온도만 반환\n",
        "        mae = np.mean(np.abs(preds - targets)) #측정값과 실제값 마이너스\n",
        "        batch_maes.append(mae)  \n",
        "    print(np.mean(batch_maes))  #갯수만큼 평균값 구하기\n",
        "    \n",
        "evaluate_naive_method()"
      ],
      "execution_count": null,
      "outputs": [
        {
          "output_type": "stream",
          "text": [
            "0.2897359729905486\n"
          ],
          "name": "stdout"
        }
      ]
    },
    {
      "cell_type": "code",
      "metadata": {
        "id": "UmIwITpfE6X2",
        "colab": {
          "base_uri": "https://localhost:8080/"
        },
        "outputId": "2b4aa085-9bbc-4aa4-eef4-ddf1e96a2ea3"
      },
      "source": [
        "0.29 * std[1] #표준편차 곱하여 섭씨온도 구하기"
      ],
      "execution_count": null,
      "outputs": [
        {
          "output_type": "execute_result",
          "data": {
            "text/plain": [
              "2.5672247338393395"
            ]
          },
          "metadata": {
            "tags": []
          },
          "execution_count": 16
        }
      ]
    },
    {
      "cell_type": "markdown",
      "metadata": {
        "id": "2YZfOT40Neet"
      },
      "source": [
        "#기본적인 머신 러닝 방법"
      ]
    },
    {
      "cell_type": "code",
      "metadata": {
        "id": "PGH9EVZKN0D8",
        "colab": {
          "base_uri": "https://localhost:8080/"
        },
        "outputId": "c085fdf5-6243-4e19-cec4-1161382765da"
      },
      "source": [
        "from keras.models import Sequential\n",
        "from keras import layers\n",
        "from keras.optimizers import RMSprop\n",
        "\n",
        "model = Sequential()\n",
        "model.add(layers.Flatten(input_shape=(lookback // step, float_data.shape[-1])))\n",
        "model.add(layers.Dense(32, activation='relu'))\n",
        "model.add(layers.Dense(1))\n",
        "\n",
        "model.compile(optimizer=RMSprop(), loss='mae')  \n",
        "history = model.fit_generator(train_gen,\n",
        "                              steps_per_epoch=500, #한 epoch 마다 반복 횟수\n",
        "                              epochs=20,\n",
        "                              validation_data=val_gen,\n",
        "                              validation_steps=val_steps) #검증 반복 횟수 설정, val_gen 값은 무한루프이므로 꼭 설정해주기!!"
      ],
      "execution_count": null,
      "outputs": [
        {
          "output_type": "stream",
          "text": [
            "/usr/local/lib/python3.7/dist-packages/keras/engine/training.py:1915: UserWarning: `Model.fit_generator` is deprecated and will be removed in a future version. Please use `Model.fit`, which supports generators.\n",
            "  warnings.warn('`Model.fit_generator` is deprecated and '\n"
          ],
          "name": "stderr"
        },
        {
          "output_type": "stream",
          "text": [
            "Epoch 1/20\n",
            "500/500 [==============================] - 24s 23ms/step - loss: 2.4958 - val_loss: 0.7788\n",
            "Epoch 2/20\n",
            "500/500 [==============================] - 11s 22ms/step - loss: 0.8373 - val_loss: 0.3605\n",
            "Epoch 3/20\n",
            "500/500 [==============================] - 11s 22ms/step - loss: 0.3763 - val_loss: 0.3015\n",
            "Epoch 4/20\n",
            "500/500 [==============================] - 11s 22ms/step - loss: 0.2801 - val_loss: 0.3350\n",
            "Epoch 5/20\n",
            "500/500 [==============================] - 11s 22ms/step - loss: 0.2609 - val_loss: 0.3003\n",
            "Epoch 6/20\n",
            "500/500 [==============================] - 11s 22ms/step - loss: 0.2485 - val_loss: 0.3768\n",
            "Epoch 7/20\n",
            "500/500 [==============================] - 11s 22ms/step - loss: 0.2400 - val_loss: 0.3159\n",
            "Epoch 8/20\n",
            "500/500 [==============================] - 11s 22ms/step - loss: 0.2354 - val_loss: 0.3396\n",
            "Epoch 9/20\n",
            "500/500 [==============================] - 11s 22ms/step - loss: 0.2316 - val_loss: 0.3139\n",
            "Epoch 10/20\n",
            "500/500 [==============================] - 11s 22ms/step - loss: 0.2263 - val_loss: 0.3269\n",
            "Epoch 11/20\n",
            "500/500 [==============================] - 11s 22ms/step - loss: 0.2231 - val_loss: 0.3257\n",
            "Epoch 12/20\n",
            "500/500 [==============================] - 11s 22ms/step - loss: 0.2201 - val_loss: 0.3153\n",
            "Epoch 13/20\n",
            "500/500 [==============================] - 11s 22ms/step - loss: 0.2176 - val_loss: 0.3310\n",
            "Epoch 14/20\n",
            "500/500 [==============================] - 11s 22ms/step - loss: 0.2157 - val_loss: 0.3662\n",
            "Epoch 15/20\n",
            "500/500 [==============================] - 11s 22ms/step - loss: 0.2142 - val_loss: 0.3435\n",
            "Epoch 16/20\n",
            "500/500 [==============================] - 11s 22ms/step - loss: 0.2072 - val_loss: 0.3325\n",
            "Epoch 17/20\n",
            "500/500 [==============================] - 11s 22ms/step - loss: 0.2092 - val_loss: 0.3211\n",
            "Epoch 18/20\n",
            "500/500 [==============================] - 11s 22ms/step - loss: 0.2066 - val_loss: 0.3375\n",
            "Epoch 19/20\n",
            "500/500 [==============================] - 11s 22ms/step - loss: 0.2023 - val_loss: 0.3268\n",
            "Epoch 20/20\n",
            "500/500 [==============================] - 11s 22ms/step - loss: 0.2044 - val_loss: 0.3392\n"
          ],
          "name": "stdout"
        }
      ]
    },
    {
      "cell_type": "code",
      "metadata": {
        "id": "13qr7raON0GI",
        "colab": {
          "base_uri": "https://localhost:8080/",
          "height": 281
        },
        "outputId": "41b87abe-8b71-423c-c3f8-d7163d8f78b9"
      },
      "source": [
        "import matplotlib.pyplot as plt\n",
        "\n",
        "loss = history.history['loss']\n",
        "val_loss = history.history['val_loss']\n",
        "\n",
        "epochs = range(1, len(loss) + 1)\n",
        "\n",
        "plt.figure()\n",
        "\n",
        "plt.plot(epochs, loss, 'bo', label='Training loss')\n",
        "plt.plot(epochs, val_loss, 'b', label='Validation loss')\n",
        "plt.title('Training and validation loss')\n",
        "plt.legend()\n",
        "\n",
        "plt.show()"
      ],
      "execution_count": null,
      "outputs": [
        {
          "output_type": "display_data",
          "data": {
            "image/png": "[encoded data removed]",
            "text/plain": [
              "<Figure size 432x288 with 1 Axes>"
            ]
          },
          "metadata": {
            "tags": [],
            "needs_background": "light"
          }
        }
      ]
    },
    {
      "cell_type": "markdown",
      "metadata": {
        "id": "ZgSdk8oTNowq"
      },
      "source": [
        "#첫번째 순환 신경망"
      ]
    },
    {
      "cell_type": "markdown",
      "metadata": {
        "id": "Wjyf5fuoAWR4"
      },
      "source": [
        "##LSTM\n",
        "![image.png](data:image/png;base64,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)"
      ]
    },
    {
      "cell_type": "markdown",
      "metadata": {
        "id": "0FJyz09bAJ98"
      },
      "source": [
        "##GRU\n",
        "![image.png](data:image/png;base64,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)"
      ]
    },
    {
      "cell_type": "code",
      "metadata": {
        "id": "Fc8pPxVVN0Io",
        "colab": {
          "base_uri": "https://localhost:8080/"
        },
        "outputId": "7694f14f-96a7-45b2-d351-07295f8c7e1d"
      },
      "source": [
        "from keras.models import Sequential\n",
        "from keras import layers\n",
        "from keras.optimizers import RMSprop\n",
        "\n",
        "model = Sequential()\n",
        "model.add(layers.GRU(32, input_shape=(None, float_data.shape[-1])))\n",
        "model.add(layers.Dense(1))\n",
        "\n",
        "model.compile(optimizer=RMSprop(), loss='mae')\n",
        "history = model.fit_generator(train_gen,\n",
        "                              steps_per_epoch=500,\n",
        "                              epochs=20,\n",
        "                              validation_data=val_gen,\n",
        "                              validation_steps=val_steps)"
      ],
      "execution_count": null,
      "outputs": [
        {
          "output_type": "stream",
          "text": [
            "/usr/local/lib/python3.7/dist-packages/keras/engine/training.py:1915: UserWarning: `Model.fit_generator` is deprecated and will be removed in a future version. Please use `Model.fit`, which supports generators.\n",
            "  warnings.warn('`Model.fit_generator` is deprecated and '\n"
          ],
          "name": "stderr"
        },
        {
          "output_type": "stream",
          "text": [
            "Epoch 1/20\n",
            "500/500 [==============================] - 20s 30ms/step - loss: 0.3434 - val_loss: 0.2707\n",
            "Epoch 2/20\n",
            "500/500 [==============================] - 14s 29ms/step - loss: 0.2853 - val_loss: 0.2641\n",
            "Epoch 3/20\n",
            "500/500 [==============================] - 14s 29ms/step - loss: 0.2767 - val_loss: 0.2651\n",
            "Epoch 4/20\n",
            "500/500 [==============================] - 14s 29ms/step - loss: 0.2711 - val_loss: 0.2648\n",
            "Epoch 5/20\n",
            "500/500 [==============================] - 14s 29ms/step - loss: 0.2685 - val_loss: 0.2756\n",
            "Epoch 6/20\n",
            "500/500 [==============================] - 14s 29ms/step - loss: 0.2618 - val_loss: 0.2700\n",
            "Epoch 7/20\n",
            "500/500 [==============================] - 15s 29ms/step - loss: 0.2568 - val_loss: 0.2685\n",
            "Epoch 8/20\n",
            "500/500 [==============================] - 14s 28ms/step - loss: 0.2537 - val_loss: 0.2684\n",
            "Epoch 9/20\n",
            "500/500 [==============================] - 14s 28ms/step - loss: 0.2466 - val_loss: 0.2723\n",
            "Epoch 10/20\n",
            "500/500 [==============================] - 14s 28ms/step - loss: 0.2435 - val_loss: 0.2740\n",
            "Epoch 11/20\n",
            "500/500 [==============================] - 14s 29ms/step - loss: 0.2366 - val_loss: 0.2762\n",
            "Epoch 12/20\n",
            "500/500 [==============================] - 14s 29ms/step - loss: 0.2362 - val_loss: 0.2792\n",
            "Epoch 13/20\n",
            "500/500 [==============================] - 14s 29ms/step - loss: 0.2312 - val_loss: 0.2791\n",
            "Epoch 14/20\n",
            "500/500 [==============================] - 14s 29ms/step - loss: 0.2278 - val_loss: 0.2863\n",
            "Epoch 15/20\n",
            "500/500 [==============================] - 14s 29ms/step - loss: 0.2235 - val_loss: 0.2867\n",
            "Epoch 16/20\n",
            "500/500 [==============================] - 14s 29ms/step - loss: 0.2186 - val_loss: 0.2910\n",
            "Epoch 17/20\n",
            "500/500 [==============================] - 14s 29ms/step - loss: 0.2176 - val_loss: 0.2958\n",
            "Epoch 18/20\n",
            "500/500 [==============================] - 14s 29ms/step - loss: 0.2146 - val_loss: 0.2958\n",
            "Epoch 19/20\n",
            "500/500 [==============================] - 14s 29ms/step - loss: 0.2099 - val_loss: 0.2965\n",
            "Epoch 20/20\n",
            "500/500 [==============================] - 15s 29ms/step - loss: 0.2057 - val_loss: 0.3066\n"
          ],
          "name": "stdout"
        }
      ]
    },
    {
      "cell_type": "code",
      "metadata": {
        "id": "G2D6zN9jN0Kf",
        "colab": {
          "base_uri": "https://localhost:8080/",
          "height": 281
        },
        "outputId": "e3638d23-cad0-4727-c401-8a39c784d0be"
      },
      "source": [
        "\n",
        "loss = history.history['loss']\n",
        "val_loss = history.history['val_loss']\n",
        "\n",
        "epochs = range(1, len(loss) + 1)\n",
        "\n",
        "plt.figure()\n",
        "\n",
        "plt.plot(epochs, loss, 'bo', label='Training loss')\n",
        "plt.plot(epochs, val_loss, 'b', label='Validation loss')\n",
        "plt.title('Training and validation loss')\n",
        "plt.legend()\n",
        "\n",
        "plt.show()"
      ],
      "execution_count": null,
      "outputs": [
        {
          "output_type": "display_data",
          "data": {
            "image/png": "[encoded data removed]",
            "text/plain": [
              "<Figure size 432x288 with 1 Axes>"
            ]
          },
          "metadata": {
            "tags": [],
            "needs_background": "light"
          }
        }
      ]
    },
    {
      "cell_type": "markdown",
      "metadata": {
        "id": "KQu-ObllN0Ew"
      },
      "source": [
        "#순환 드롭아웃 사용"
      ]
    },
    {
      "cell_type": "code",
      "metadata": {
        "id": "XObg6fBYN0Mu",
        "colab": {
          "base_uri": "https://localhost:8080/"
        },
        "outputId": "29be92dc-d3df-4db5-dc35-595a0a3bb36e"
      },
      "source": [
        "from keras.models import Sequential\n",
        "from keras import layers\n",
        "from keras.optimizers import RMSprop\n",
        "\n",
        "model = Sequential()\n",
        "model.add(layers.GRU(32,\n",
        "                     dropout=0.2,  #입력에 대한 드롭아웃 비율 설정\n",
        "                     recurrent_dropout=0.2,  #순환상태의 드롭아웃 비율 설정\n",
        "                     input_shape=(None, float_data.shape[-1])))\n",
        "model.add(layers.Dense(1))\n",
        "\n",
        "model.compile(optimizer=RMSprop(), loss='mae')\n",
        "history = model.fit_generator(train_gen,\n",
        "                              steps_per_epoch=500,\n",
        "                              epochs=40,\n",
        "                              validation_data=val_gen,\n",
        "                              validation_steps=val_steps)"
      ],
      "execution_count": null,
      "outputs": [
        {
          "output_type": "stream",
          "text": [
            "/usr/local/lib/python3.7/dist-packages/keras/engine/training.py:1915: UserWarning: `Model.fit_generator` is deprecated and will be removed in a future version. Please use `Model.fit`, which supports generators.\n",
            "  warnings.warn('`Model.fit_generator` is deprecated and '\n"
          ],
          "name": "stderr"
        },
        {
          "output_type": "stream",
          "text": [
            "Epoch 1/40\n",
            "500/500 [==============================] - 171s 295ms/step - loss: 0.3627 - val_loss: 0.2776\n",
            "Epoch 2/40\n",
            "500/500 [==============================] - 147s 294ms/step - loss: 0.3068 - val_loss: 0.2766\n",
            "Epoch 3/40\n",
            "500/500 [==============================] - 147s 294ms/step - loss: 0.3020 - val_loss: 0.2743\n",
            "Epoch 4/40\n",
            "500/500 [==============================] - 146s 292ms/step - loss: 0.2985 - val_loss: 0.2864\n",
            "Epoch 5/40\n",
            "500/500 [==============================] - 147s 294ms/step - loss: 0.2945 - val_loss: 0.2707\n",
            "Epoch 6/40\n",
            "500/500 [==============================] - 146s 292ms/step - loss: 0.2917 - val_loss: 0.2696\n",
            "Epoch 7/40\n",
            "500/500 [==============================] - 145s 291ms/step - loss: 0.2857 - val_loss: 0.2719\n",
            "Epoch 8/40\n",
            "500/500 [==============================] - 146s 293ms/step - loss: 0.2825 - val_loss: 0.2665\n",
            "Epoch 9/40\n",
            "500/500 [==============================] - 147s 294ms/step - loss: 0.2805 - val_loss: 0.2702\n",
            "Epoch 10/40\n",
            "500/500 [==============================] - 146s 292ms/step - loss: 0.2741 - val_loss: 0.2715\n",
            "Epoch 11/40\n",
            "500/500 [==============================] - 146s 292ms/step - loss: 0.2731 - val_loss: 0.2711\n",
            "Epoch 12/40\n",
            "500/500 [==============================] - 146s 292ms/step - loss: 0.2684 - val_loss: 0.2715\n",
            "Epoch 13/40\n",
            "500/500 [==============================] - 146s 292ms/step - loss: 0.2653 - val_loss: 0.2741\n",
            "Epoch 14/40\n",
            "500/500 [==============================] - 146s 292ms/step - loss: 0.2591 - val_loss: 0.2748\n",
            "Epoch 15/40\n",
            "500/500 [==============================] - 146s 292ms/step - loss: 0.2572 - val_loss: 0.2758\n",
            "Epoch 16/40\n",
            "500/500 [==============================] - 147s 294ms/step - loss: 0.2569 - val_loss: 0.2758\n",
            "Epoch 17/40\n",
            "500/500 [==============================] - 146s 293ms/step - loss: 0.2541 - val_loss: 0.2804\n",
            "Epoch 18/40\n",
            "500/500 [==============================] - 147s 293ms/step - loss: 0.2534 - val_loss: 0.2871\n",
            "Epoch 19/40\n",
            "500/500 [==============================] - 146s 292ms/step - loss: 0.2523 - val_loss: 0.2814\n",
            "Epoch 20/40\n",
            "500/500 [==============================] - 146s 292ms/step - loss: 0.2487 - val_loss: 0.2811\n",
            "Epoch 21/40\n",
            "500/500 [==============================] - 147s 294ms/step - loss: 0.2456 - val_loss: 0.2864\n",
            "Epoch 22/40\n",
            "500/500 [==============================] - 146s 292ms/step - loss: 0.2448 - val_loss: 0.2876\n",
            "Epoch 23/40\n",
            "500/500 [==============================] - 147s 293ms/step - loss: 0.2433 - val_loss: 0.2920\n",
            "Epoch 24/40\n",
            "500/500 [==============================] - 147s 294ms/step - loss: 0.2413 - val_loss: 0.2931\n",
            "Epoch 25/40\n",
            "500/500 [==============================] - 146s 291ms/step - loss: 0.2423 - val_loss: 0.2965\n",
            "Epoch 26/40\n",
            "500/500 [==============================] - 146s 292ms/step - loss: 0.2401 - val_loss: 0.2965\n",
            "Epoch 27/40\n",
            "500/500 [==============================] - 146s 292ms/step - loss: 0.2369 - val_loss: 0.2961\n",
            "Epoch 28/40\n",
            "500/500 [==============================] - 146s 293ms/step - loss: 0.2365 - val_loss: 0.3024\n",
            "Epoch 29/40\n",
            "500/500 [==============================] - 146s 291ms/step - loss: 0.2356 - val_loss: 0.2971\n",
            "Epoch 30/40\n",
            "500/500 [==============================] - 146s 292ms/step - loss: 0.2365 - val_loss: 0.3059\n",
            "Epoch 31/40\n",
            "500/500 [==============================] - 146s 292ms/step - loss: 0.2323 - val_loss: 0.3064\n",
            "Epoch 32/40\n",
            "500/500 [==============================] - 146s 292ms/step - loss: 0.2301 - val_loss: 0.3040\n",
            "Epoch 33/40\n",
            "500/500 [==============================] - 146s 291ms/step - loss: 0.2295 - val_loss: 0.3026\n",
            "Epoch 34/40\n",
            "500/500 [==============================] - 146s 292ms/step - loss: 0.2302 - val_loss: 0.3108\n",
            "Epoch 35/40\n",
            "500/500 [==============================] - 146s 292ms/step - loss: 0.2274 - val_loss: 0.3097\n",
            "Epoch 36/40\n",
            "500/500 [==============================] - 146s 292ms/step - loss: 0.2268 - val_loss: 0.3122\n",
            "Epoch 37/40\n",
            "500/500 [==============================] - 146s 293ms/step - loss: 0.2270 - val_loss: 0.3094\n",
            "Epoch 38/40\n",
            "500/500 [==============================] - 146s 292ms/step - loss: 0.2224 - val_loss: 0.3083\n",
            "Epoch 39/40\n",
            "500/500 [==============================] - 147s 293ms/step - loss: 0.2244 - val_loss: 0.3195\n",
            "Epoch 40/40\n",
            "500/500 [==============================] - 146s 293ms/step - loss: 0.2229 - val_loss: 0.3149\n"
          ],
          "name": "stdout"
        }
      ]
    },
    {
      "cell_type": "code",
      "metadata": {
        "id": "vxkgOa5kN5JR",
        "colab": {
          "base_uri": "https://localhost:8080/",
          "height": 281
        },
        "outputId": "bf2f4018-77e4-42b4-92de-f31b259cbac5"
      },
      "source": [
        "loss = history.history['loss']\n",
        "val_loss = history.history['val_loss']\n",
        "\n",
        "epochs = range(1, len(loss) + 1)\n",
        "\n",
        "plt.figure()\n",
        "\n",
        "plt.plot(epochs, loss, 'bo', label='Training loss')\n",
        "plt.plot(epochs, val_loss, 'b', label='Validation loss')\n",
        "plt.title('Training and validation loss')\n",
        "plt.legend()\n",
        "\n",
        "plt.show()"
      ],
      "execution_count": null,
      "outputs": [
        {
          "output_type": "display_data",
          "data": {
            "image/png": "[encoded data removed]",
            "text/plain": [
              "<Figure size 432x288 with 1 Axes>"
            ]
          },
          "metadata": {
            "tags": [],
            "needs_background": "light"
          }
        }
      ]
    },
    {
      "cell_type": "markdown",
      "metadata": {
        "id": "PK3kUaEdRurz"
      },
      "source": [
        "#스태킹 순환층"
      ]
    },
    {
      "cell_type": "code",
      "metadata": {
        "id": "NSnCERnTN5LZ",
        "colab": {
          "base_uri": "https://localhost:8080/"
        },
        "outputId": "aca1468b-2982-4578-cc98-0e2c3c41d6a0"
      },
      "source": [
        "from keras.models import Sequential\n",
        "from keras import layers\n",
        "from keras.optimizers import RMSprop\n",
        "\n",
        "model = Sequential()\n",
        "model.add(layers.GRU(32,\n",
        "                     dropout=0.1,\n",
        "                     recurrent_dropout=0.5,\n",
        "                     return_sequences=True, #전체 시퀀스 출력\n",
        "                     input_shape=(None, float_data.shape[-1])))\n",
        "model.add(layers.GRU(64, activation='relu',\n",
        "                     dropout=0.1, \n",
        "                     recurrent_dropout=0.5))\n",
        "model.add(layers.Dense(1))\n",
        "\n",
        "model.compile(optimizer=RMSprop(), loss='mae')\n",
        "history = model.fit_generator(train_gen,\n",
        "                              steps_per_epoch=500,\n",
        "                              epochs=40,\n",
        "                              validation_data=val_gen,\n",
        "                              validation_steps=val_steps)"
      ],
      "execution_count": null,
      "outputs": [
        {
          "output_type": "stream",
          "text": [
            "/usr/local/lib/python3.7/dist-packages/keras/engine/training.py:1915: UserWarning: `Model.fit_generator` is deprecated and will be removed in a future version. Please use `Model.fit`, which supports generators.\n",
            "  warnings.warn('`Model.fit_generator` is deprecated and '\n"
          ],
          "name": "stderr"
        },
        {
          "output_type": "stream",
          "text": [
            "Epoch 1/40\n",
            "500/500 [==============================] - 414s 814ms/step - loss: 0.3414 - val_loss: 0.2776\n",
            "Epoch 2/40\n",
            "500/500 [==============================] - 407s 814ms/step - loss: 0.3032 - val_loss: 0.2770\n",
            "Epoch 3/40\n",
            "500/500 [==============================] - 407s 815ms/step - loss: 0.2952 - val_loss: 0.2640\n",
            "Epoch 4/40\n",
            "500/500 [==============================] - 407s 815ms/step - loss: 0.2902 - val_loss: 0.2684\n",
            "Epoch 5/40\n",
            "500/500 [==============================] - 408s 816ms/step - loss: 0.2807 - val_loss: 0.2696\n",
            "Epoch 6/40\n",
            "500/500 [==============================] - 407s 814ms/step - loss: 0.2764 - val_loss: 0.2664\n",
            "Epoch 7/40\n",
            "500/500 [==============================] - 407s 815ms/step - loss: 0.2690 - val_loss: 0.2765\n",
            "Epoch 8/40\n",
            "500/500 [==============================] - 408s 816ms/step - loss: 0.2667 - val_loss: 0.2786\n",
            "Epoch 9/40\n",
            "500/500 [==============================] - 407s 815ms/step - loss: 0.2597 - val_loss: 0.2722\n",
            "Epoch 10/40\n",
            "500/500 [==============================] - 407s 813ms/step - loss: 0.2594 - val_loss: 0.2847\n",
            "Epoch 11/40\n",
            "500/500 [==============================] - 407s 815ms/step - loss: 0.2519 - val_loss: 0.2890\n",
            "Epoch 12/40\n",
            "500/500 [==============================] - 407s 815ms/step - loss: 0.2489 - val_loss: 0.2841\n",
            "Epoch 13/40\n",
            "500/500 [==============================] - 406s 812ms/step - loss: 0.2451 - val_loss: 0.2875\n",
            "Epoch 14/40\n",
            "500/500 [==============================] - 409s 818ms/step - loss: 0.2418 - val_loss: 0.2913\n",
            "Epoch 15/40\n",
            "500/500 [==============================] - 409s 818ms/step - loss: 0.2380 - val_loss: 0.2938\n",
            "Epoch 16/40\n",
            "500/500 [==============================] - 407s 815ms/step - loss: 0.2348 - val_loss: 0.3001\n",
            "Epoch 17/40\n",
            "500/500 [==============================] - 407s 815ms/step - loss: 0.2315 - val_loss: 0.3056\n",
            "Epoch 18/40\n",
            "500/500 [==============================] - 407s 814ms/step - loss: 0.2307 - val_loss: 0.3029\n",
            "Epoch 19/40\n",
            "500/500 [==============================] - 409s 818ms/step - loss: 0.2260 - val_loss: 0.3070\n",
            "Epoch 20/40\n",
            "500/500 [==============================] - 408s 816ms/step - loss: 0.2248 - val_loss: 0.3147\n",
            "Epoch 21/40\n",
            "500/500 [==============================] - 408s 816ms/step - loss: 0.2203 - val_loss: 0.3160\n",
            "Epoch 22/40\n",
            "500/500 [==============================] - 408s 815ms/step - loss: 0.2188 - val_loss: 0.3182\n",
            "Epoch 23/40\n",
            "500/500 [==============================] - 408s 816ms/step - loss: 0.2165 - val_loss: 0.3153\n",
            "Epoch 24/40\n",
            "500/500 [==============================] - 407s 815ms/step - loss: 0.2127 - val_loss: 0.3237\n",
            "Epoch 25/40\n",
            "500/500 [==============================] - 410s 819ms/step - loss: 0.2104 - val_loss: 0.3327\n",
            "Epoch 26/40\n",
            "500/500 [==============================] - 409s 818ms/step - loss: 0.2065 - val_loss: 0.3173\n",
            "Epoch 27/40\n",
            "500/500 [==============================] - 403s 806ms/step - loss: 0.2082 - val_loss: 0.3272\n",
            "Epoch 28/40\n",
            "500/500 [==============================] - 408s 817ms/step - loss: 0.2048 - val_loss: 0.3323\n",
            "Epoch 29/40\n",
            "500/500 [==============================] - 410s 820ms/step - loss: 0.2034 - val_loss: 0.3285\n",
            "Epoch 30/40\n",
            "500/500 [==============================] - 409s 818ms/step - loss: 0.2047 - val_loss: 0.3287\n",
            "Epoch 31/40\n",
            "500/500 [==============================] - 410s 820ms/step - loss: 0.2010 - val_loss: 0.3372\n",
            "Epoch 32/40\n",
            "500/500 [==============================] - 410s 820ms/step - loss: 0.1983 - val_loss: 0.3420\n",
            "Epoch 33/40\n",
            "500/500 [==============================] - 409s 819ms/step - loss: 0.1981 - val_loss: 0.3464\n",
            "Epoch 34/40\n",
            "500/500 [==============================] - 410s 819ms/step - loss: 0.1953 - val_loss: 0.3402\n",
            "Epoch 35/40\n",
            "500/500 [==============================] - 410s 820ms/step - loss: 0.1956 - val_loss: 0.3397\n",
            "Epoch 36/40\n",
            "500/500 [==============================] - 409s 818ms/step - loss: 0.1934 - val_loss: 0.3408\n",
            "Epoch 37/40\n",
            "500/500 [==============================] - 409s 819ms/step - loss: 0.1927 - val_loss: 0.3376\n",
            "Epoch 38/40\n",
            "500/500 [==============================] - 410s 820ms/step - loss: 0.1911 - val_loss: 0.3406\n",
            "Epoch 39/40\n",
            "500/500 [==============================] - 410s 820ms/step - loss: 0.1905 - val_loss: 0.3406\n",
            "Epoch 40/40\n",
            "500/500 [==============================] - 410s 821ms/step - loss: 0.1909 - val_loss: 0.3436\n"
          ],
          "name": "stdout"
        }
      ]
    },
    {
      "cell_type": "code",
      "metadata": {
        "id": "WxQwYGb0N5N5",
        "colab": {
          "base_uri": "https://localhost:8080/",
          "height": 281
        },
        "outputId": "2ab09ebb-ed1a-4404-9030-9eb9687d64b4"
      },
      "source": [
        "\n",
        "loss = history.history['loss']\n",
        "val_loss = history.history['val_loss']\n",
        "\n",
        "epochs = range(1, len(loss) + 1)\n",
        "\n",
        "plt.figure()\n",
        "\n",
        "plt.plot(epochs, loss, 'bo', label='Training loss')\n",
        "plt.plot(epochs, val_loss, 'b', label='Validation loss')\n",
        "plt.title('Training and validation loss')\n",
        "plt.legend()\n",
        "\n",
        "plt.show()"
      ],
      "execution_count": null,
      "outputs": [
        {
          "output_type": "display_data",
          "data": {
            "image/png": "[encoded data removed]",
            "text/plain": [
              "<Figure size 432x288 with 1 Axes>"
            ]
          },
          "metadata": {
            "tags": [],
            "needs_background": "light"
          }
        }
      ]
    },
    {
      "cell_type": "markdown",
      "metadata": {
        "id": "iKXx-3iOVX5y"
      },
      "source": [
        "#양방향 RNN"
      ]
    },
    {
      "cell_type": "code",
      "metadata": {
        "id": "gPEiLR0TN5QM"
      },
      "source": [
        "def reverse_order_generator(data, lookback, delay, min_index, max_index,\n",
        "                            shuffle=False, batch_size=128, step=6):\n",
        "    if max_index is None:\n",
        "        max_index = len(data) - delay - 1\n",
        "    i = min_index + lookback\n",
        "    while 1:\n",
        "        if shuffle:\n",
        "            rows = np.random.randint(\n",
        "                min_index + lookback, max_index, size=batch_size)\n",
        "        else:\n",
        "            if i + batch_size >= max_index:\n",
        "                i = min_index + lookback\n",
        "            rows = np.arange(i, min(i + batch_size, max_index))\n",
        "            i += len(rows)\n",
        "\n",
        "        samples = np.zeros((len(rows),\n",
        "                           lookback // step,\n",
        "                           data.shape[-1]))\n",
        "        targets = np.zeros((len(rows),))\n",
        "        for j, row in enumerate(rows):\n",
        "            indices = range(rows[j] - lookback, rows[j], step)\n",
        "            samples[j] = data[indices]\n",
        "            targets[j] = data[rows[j] + delay][1]\n",
        "        yield samples[:, ::-1, :], targets\n",
        "        \n",
        "train_gen_reverse = reverse_order_generator(\n",
        "    float_data,\n",
        "    lookback=lookback,\n",
        "    delay=delay,\n",
        "    min_index=0,\n",
        "    max_index=200000,\n",
        "    shuffle=True,\n",
        "    step=step, \n",
        "    batch_size=batch_size)\n",
        "val_gen_reverse = reverse_order_generator(\n",
        "    float_data,\n",
        "    lookback=lookback,\n",
        "    delay=delay,\n",
        "    min_index=200001,\n",
        "    max_index=300000,\n",
        "    step=step,\n",
        "    batch_size=batch_size)"
      ],
      "execution_count": null,
      "outputs": []
    },
    {
      "cell_type": "code",
      "metadata": {
        "id": "xNZuY0hhN5Sk"
      },
      "source": [
        "model = Sequential()\n",
        "model.add(layers.GRU(32, input_shape=(None, float_data.shape[-1])))\n",
        "model.add(layers.Dense(1))\n",
        "\n",
        "model.compile(optimizer=RMSprop(), loss='mae')\n",
        "history = model.fit_generator(train_gen_reverse,\n",
        "                              steps_per_epoch=500,\n",
        "                              epochs=20,\n",
        "                              validation_data=val_gen_reverse,\n",
        "                              validation_steps=val_steps)"
      ],
      "execution_count": null,
      "outputs": []
    },
    {
      "cell_type": "code",
      "metadata": {
        "id": "sMX0DIQROB89"
      },
      "source": [
        "loss = history.history['loss']\n",
        "val_loss = history.history['val_loss']\n",
        "\n",
        "epochs = range(1, len(loss) + 1)\n",
        "\n",
        "plt.figure()\n",
        "\n",
        "plt.plot(epochs, loss, 'bo', label='Training loss')\n",
        "plt.plot(epochs, val_loss, 'b', label='Validation loss')\n",
        "plt.title('Training and validation loss')\n",
        "plt.legend()\n",
        "\n",
        "plt.show()\n"
      ],
      "execution_count": null,
      "outputs": []
    },
    {
      "cell_type": "markdown",
      "metadata": {
        "id": "Rkb3ScLVVboW"
      },
      "source": [
        "##텍스트 데이터셋 양방향 RNN"
      ]
    },
    {
      "cell_type": "code",
      "metadata": {
        "id": "y2Sva9t3OCA5"
      },
      "source": [
        "from keras.datasets import imdb\n",
        "from keras.preprocessing import sequence\n",
        "from keras import layers\n",
        "from keras.models import Sequential\n",
        "\n",
        "# 특성으로 사용할 단어의 수\n",
        "max_features = 10000\n",
        "# 사용할 텍스트의 길이(가장 빈번한 max_features 개의 단어만 사용합니다)\n",
        "maxlen = 500\n",
        "\n",
        "# 데이터 로드\n",
        "(x_train, y_train), (x_test, y_test) = imdb.load_data(num_words=max_features)\n",
        "\n",
        "# 시퀀스를 뒤집습니다\n",
        "x_train = [x[::-1] for x in x_train]\n",
        "x_test = [x[::-1] for x in x_test]\n",
        "\n",
        "# 시퀀스에 패딩을 추가합니다\n",
        "x_train = sequence.pad_sequences(x_train, maxlen=maxlen)\n",
        "x_test = sequence.pad_sequences(x_test, maxlen=maxlen)\n",
        "\n",
        "model = Sequential()\n",
        "model.add(layers.Embedding(max_features, 128))\n",
        "model.add(layers.LSTM(32))\n",
        "model.add(layers.Dense(1, activation='sigmoid'))\n",
        "\n",
        "model.compile(optimizer='rmsprop',\n",
        "              loss='binary_crossentropy',\n",
        "              metrics=['acc'])\n",
        "history = model.fit(x_train, y_train,\n",
        "                    epochs=10,\n",
        "                    batch_size=128,\n",
        "                    validation_split=0.2)"
      ],
      "execution_count": null,
      "outputs": []
    },
    {
      "cell_type": "code",
      "metadata": {
        "id": "9a9nAdO4OCDR"
      },
      "source": [
        "\n",
        "from keras import backend as K\n",
        "K.clear_session()"
      ],
      "execution_count": null,
      "outputs": []
    },
    {
      "cell_type": "code",
      "metadata": {
        "id": "69mH4obLOCFq"
      },
      "source": [
        "\n",
        "model = Sequential()\n",
        "model.add(layers.Embedding(max_features, 32))\n",
        "model.add(layers.Bidirectional(layers.LSTM(32)))\n",
        "model.add(layers.Dense(1, activation='sigmoid'))\n",
        "\n",
        "model.compile(optimizer='rmsprop', loss='binary_crossentropy', metrics=['acc'])\n",
        "history = model.fit(x_train, y_train, epochs=10, batch_size=128, validation_split=0.2)"
      ],
      "execution_count": null,
      "outputs": []
    },
    {
      "cell_type": "code",
      "metadata": {
        "id": "1f52zRYfOCIR"
      },
      "source": [
        "from keras.models import Sequential\n",
        "from keras import layers\n",
        "from keras.optimizers import RMSprop\n",
        "\n",
        "model = Sequential()\n",
        "model.add(layers.Bidirectional(\n",
        "    layers.GRU(32), input_shape=(None, float_data.shape[-1])))\n",
        "model.add(layers.Dense(1))\n",
        "\n",
        "model.compile(optimizer=RMSprop(), loss='mae')\n",
        "history = model.fit_generator(train_gen,\n",
        "                              steps_per_epoch=500,\n",
        "                              epochs=40,\n",
        "                              validation_data=val_gen,\n",
        "                              validation_steps=val_steps)"
      ],
      "execution_count": null,
      "outputs": []
    },
    {
      "cell_type": "code",
      "metadata": {
        "id": "891fu2o-OCKH"
      },
      "source": [
        ""
      ],
      "execution_count": null,
      "outputs": []
    },
    {
      "cell_type": "code",
      "metadata": {
        "id": "GGv75lgXOCMV"
      },
      "source": [
        ""
      ],
      "execution_count": null,
      "outputs": []
    },
    {
      "cell_type": "code",
      "metadata": {
        "id": "vH3njQSdOCOM"
      },
      "source": [
        ""
      ],
      "execution_count": null,
      "outputs": []
    },
    {
      "cell_type": "code",
      "metadata": {
        "id": "LJiJB1RcN0Op"
      },
      "source": [
        ""
      ],
      "execution_count": null,
      "outputs": []
    }
  ]
}